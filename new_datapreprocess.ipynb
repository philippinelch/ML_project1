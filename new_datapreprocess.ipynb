{
 "cells": [
  {
   "cell_type": "code",
   "execution_count": 1,
   "metadata": {},
   "outputs": [],
   "source": [
    "import os\n",
    "os.chdir('c:\\\\Users\\\\utilisateur\\\\Documents\\\\GitHub\\\\ML_Project1\\\\ML_project1')\n",
    "         \n",
    "import sys\n",
    "sys.path.append(os.getcwd())"
   ]
  },
  {
   "cell_type": "code",
   "execution_count": 5,
   "metadata": {},
   "outputs": [
    {
     "name": "stdout",
     "output_type": "stream",
     "text": [
      "The autoreload extension is already loaded. To reload it, use:\n",
      "  %reload_ext autoreload\n"
     ]
    }
   ],
   "source": [
    "# Enable autoreload\n",
    "%load_ext autoreload\n",
    "%autoreload 2\n",
    "\n",
    "import numpy as np\n",
    "from helpers import *\n",
    "from new_datapreprocess import *"
   ]
  },
  {
   "cell_type": "code",
   "execution_count": 3,
   "metadata": {},
   "outputs": [],
   "source": [
    "# Load dataset\n",
    "file_path = 'dataset\\\\'\n",
    "x_train, x_test, y_train, train_ids, test_ids = load_csv_data(file_path)"
   ]
  },
  {
   "cell_type": "code",
   "execution_count": 6,
   "metadata": {},
   "outputs": [
    {
     "name": "stdout",
     "output_type": "stream",
     "text": [
      "Removed columns at indices: [5, 6]\n",
      "Variance thresholding: 30 features removed with variance below 0.01\n",
      "Preprocessed Training Data Shape: (46360, 180)\n",
      "Preprocessed Test Data Shape: (65627, 180)\n",
      "Balanced y_train Shape: (46360,)\n",
      "y_test Shape: (65627,)\n"
     ]
    }
   ],
   "source": [
    "# Preprocess the data\n",
    "x_train_final, x_test_final, y_train_balanced, y_test = Preprocess_Data(\n",
    "    file_path=file_path,\n",
    "    x_train=x_train,\n",
    "    y_train=y_train,\n",
    "    test_size=0.2,                  # Use 20% of data as test set\n",
    "    balance_method=\"undersample\",    # Choose to undersample for balancing\n",
    "    missing_val_threshold=0.25,      # Remove columns with >25% missing data\n",
    "    variance_threshold=0.01,         # Minimum variance threshold\n",
    "    low_corr_threshold=0.05,         # Minimum correlation threshold with target\n",
    "    high_corr_threshold=0.9,         # Maximum correlation threshold between features\n",
    "    p_value_threshold=0.05           # p-value threshold for statistical significance\n",
    ")\n",
    "\n",
    "# Verify outputs\n",
    "print(\"Preprocessed Training Data Shape:\", x_train_final.shape)\n",
    "print(\"Preprocessed Test Data Shape:\", x_test_final.shape)\n",
    "print(\"Balanced y_train Shape:\", y_train_balanced.shape)\n",
    "print(\"y_test Shape:\", y_test.shape)"
   ]
  }
 ],
 "metadata": {
  "kernelspec": {
   "display_name": "base",
   "language": "python",
   "name": "python3"
  },
  "language_info": {
   "codemirror_mode": {
    "name": "ipython",
    "version": 3
   },
   "file_extension": ".py",
   "mimetype": "text/x-python",
   "name": "python",
   "nbconvert_exporter": "python",
   "pygments_lexer": "ipython3",
   "version": "3.9.12"
  }
 },
 "nbformat": 4,
 "nbformat_minor": 2
}
