{
 "cells": [
  {
   "cell_type": "code",
   "execution_count": 1,
   "metadata": {},
   "outputs": [],
   "source": [
    "import os\n",
    "os.chdir('c:\\\\Users\\\\utilisateur\\\\Documents\\\\GitHub\\\\ML_Project1\\\\ML_project1')\n",
    "         \n",
    "import sys\n",
    "sys.path.append(os.getcwd())"
   ]
  },
  {
   "cell_type": "code",
   "execution_count": 2,
   "metadata": {},
   "outputs": [],
   "source": [
    "# Enable autoreload\n",
    "%load_ext autoreload\n",
    "%autoreload 2\n",
    "\n",
    "import numpy as np\n",
    "from helpers import *\n",
    "from Preprocessing_functions import *"
   ]
  },
  {
   "cell_type": "code",
   "execution_count": 3,
   "metadata": {},
   "outputs": [],
   "source": [
    "# Load dataset\n",
    "file_path = 'dataset\\\\'\n",
    "x_train, x_test, y_train, train_ids, test_ids = load_csv_data(file_path)"
   ]
  },
  {
   "cell_type": "code",
   "execution_count": 5,
   "metadata": {},
   "outputs": [
    {
     "name": "stdout",
     "output_type": "stream",
     "text": [
      "\n",
      "Step 1: Remove Missing Values - Reason: Too many missing values:\n",
      "Removed 178 features: ['CTELENUM', 'PVTRESD1', 'COLGHOUS', 'STATERES', 'CELLFON3', 'LADULT', 'NUMADULT', 'NUMMEN', 'NUMWOMEN', 'CTELNUM1', 'CELLFON2', 'CADULT', 'PVTRESD2', 'CCLGHOUS', 'CSTATE', 'LANDLINE', 'HHADULT', 'POORHLTH', 'BPMEDS', 'ASTHNOW', 'DIABAGE2', 'NUMHHOL2', 'NUMPHON2', 'CPDEMO1', 'PREGNANT', 'SMOKDAY2', 'STOPSMK2', 'LASTSMK2', 'AVEDRNK2', 'DRNK3GE5', 'MAXDRNKS', 'EXRACT11', 'EXEROFT1', 'EXERHMM1', 'EXRACT21', 'EXEROFT2', 'EXERHMM2', 'LMTJOIN3', 'ARTHDIS2', 'ARTHSOCL', 'JOINPAIN', 'FLSHTMY2', 'IMFVPLAC', 'HIVTSTD3', 'WHRTST10', 'PDIABTST', 'PREDIAB1', 'INSULIN', 'BLDSUGAR', 'FEETCHK2', 'DOCTDIAB', 'CHKHEMO3', 'FEETCHK', 'EYEEXAM', 'DIABEYE', 'DIABEDU', 'CAREGIV1', 'CRGVREL1', 'CRGVLNG1', 'CRGVHRS1', 'CRGVPRB1', 'CRGVPERS', 'CRGVHOUS', 'CRGVMST2', 'CRGVEXPT', 'VIDFCLT2', 'VIREDIF3', 'VIPRFVS2', 'VINOCRE2', 'VIEYEXM2', 'VIINSUR2', 'VICTRCT4', 'VIGLUMA2', 'VIMACDG2', 'CIMEMLOS', 'CDHOUSE', 'CDASSIST', 'CDHELP', 'CDSOCIAL', 'CDDISCUS', 'WTCHSALT', 'LONGWTCH', 'DRADVISE', 'ASTHMAGE', 'ASATTACK', 'ASERVIST', 'ASDRVIST', 'ASRCHKUP', 'ASACTLIM', 'ASYMPTOM', 'ASNOSLEP', 'ASTHMED3', 'ASINHALR', 'HAREHAB1', 'STREHAB1', 'CVDASPRN', 'ASPUNSAF', 'RLIVPAIN', 'RDUCHART', 'RDUCSTRK', 'ARTTODAY', 'ARTHWGT', 'ARTHEXER', 'ARTHEDU', 'TETANUS', 'HPVADVC2', 'HPVADSHT', 'SHINGLE2', 'HADMAM', 'HOWLONG', 'HADPAP2', 'LASTPAP2', 'HPVTEST', 'HPLSTTST', 'HADHYST2', 'PROFEXAM', 'LENGEXAM', 'BLDSTOOL', 'LSTBLDS3', 'HADSIGM3', 'HADSGCO1', 'LASTSIG3', 'PCPSAAD2', 'PCPSADI1', 'PCPSARE1', 'PSATEST1', 'PSATIME', 'PCPSARS1', 'PCPSADE1', 'PCDMDECN', 'SCNTMNY1', 'SCNTMEL1', 'SCNTPAID', 'SCNTWRK1', 'SCNTLPAD', 'SCNTLWK1', 'SXORIENT', 'TRNSGNDR', 'RCSGENDR', 'RCSRLTN2', 'CASTHDX2', 'CASTHNO2', 'EMTSUPRT', 'LSATISFY', 'ADPLEASR', 'ADDOWN', 'ADSLEEP', 'ADENERGY', 'ADEAT1', 'ADFAIL', 'ADTHINK', 'ADMOVE', 'MISTMNT', 'ADANXEV', 'MSCODE', '_CHISPNC', '_CRACE1', '_CPRACE', '_CLLCPWT', '_DUALCOR', 'METVL11_', 'METVL21_', 'ACTIN11_', 'ACTIN21_', 'PADUR1_', 'PADUR2_', 'PAFREQ1_', 'PAFREQ2_', '_MINAC11', '_MINAC21', 'PAMIN11_', 'PAMIN21_', 'PA1MIN_', 'PAVIG11_', 'PAVIG21_', 'PA1VIGM_', '_FLSHOT6', '_PNEUMO2']\n",
      "All checks passed: The dataset has only binary or continuous features.\n",
      "\n",
      "Step 2: Variance Thresholding - Reason: Low variance:\n",
      "Removed 101 features: ['GENHLTH_7.0_encoded', 'GENHLTH_9.0_encoded', 'HLTHPLN1_7.0_encoded', 'HLTHPLN1_9.0_encoded', 'PERSDOC2_7.0_encoded', 'PERSDOC2_9.0_encoded', 'MEDCOST_7.0_encoded', 'MEDCOST_9.0_encoded', 'CHECKUP1_8.0_encoded', 'CHECKUP1_9.0_encoded', 'BPHIGH4_2.0_encoded', 'BPHIGH4_4.0_encoded', 'BPHIGH4_7.0_encoded', 'BPHIGH4_9.0_encoded', 'BLOODCHO_9.0_encoded', 'CHOLCHK_9.0_encoded', 'TOLDHI2_7.0_encoded', 'TOLDHI2_9.0_encoded', 'CVDSTRK3_7.0_encoded', 'CVDSTRK3_9.0_encoded', 'ASTHMA3_7.0_encoded', 'ASTHMA3_9.0_encoded', 'CHCSCNCR_7.0_encoded', 'CHCSCNCR_9.0_encoded', 'CHCOCNCR_7.0_encoded', 'CHCOCNCR_9.0_encoded', 'CHCCOPD1_7.0_encoded', 'CHCCOPD1_9.0_encoded', 'HAVARTH3_7.0_encoded', 'HAVARTH3_9.0_encoded', 'ADDEPEV2_7.0_encoded', 'ADDEPEV2_9.0_encoded', 'CHCKIDNY_7.0_encoded', 'CHCKIDNY_9.0_encoded', 'DIABETE3_2.0_encoded', 'DIABETE3_7.0_encoded', 'DIABETE3_9.0_encoded', 'MARITAL_9.0_encoded', 'EDUCA_1.0_encoded', 'EDUCA_9.0_encoded', 'RENTHOM1_7.0_encoded', 'RENTHOM1_9.0_encoded', 'VETERAN3_7.0_encoded', 'VETERAN3_9.0_encoded', 'EMPLOY1_9.0_encoded', 'INTERNET_7.0_encoded', 'INTERNET_9.0_encoded', 'QLACTLM2_7.0_encoded', 'QLACTLM2_9.0_encoded', 'USEEQUIP_7.0_encoded', 'USEEQUIP_9.0_encoded', 'BLIND_7.0_encoded', 'BLIND_9.0_encoded', 'DECIDE_7.0_encoded', 'DECIDE_9.0_encoded', 'DIFFWALK_7.0_encoded', 'DIFFWALK_9.0_encoded', 'DIFFDRES_7.0_encoded', 'DIFFDRES_9.0_encoded', 'DIFFALON_7.0_encoded', 'DIFFALON_9.0_encoded', 'SMOKE100_7.0_encoded', 'SMOKE100_9.0_encoded', 'USENOW3_7.0_encoded', 'USENOW3_9.0_encoded', 'EXERANY2_7.0_encoded', 'EXERANY2_9.0_encoded', 'SEATBELT_7.0_encoded', 'SEATBELT_8.0_encoded', 'SEATBELT_9.0_encoded', 'FLUSHOT6_7.0_encoded', 'FLUSHOT6_9.0_encoded', 'PNEUVAC3_9.0_encoded', 'HIVTST6_9.0_encoded', 'QSTVER_13.0_encoded', 'QSTLANG_3.0_encoded', '_RFHLTH_9.0_encoded', '_RFHYPE5_9.0_encoded', '_RFCHOL_9.0_encoded', '_LTASTH1_9.0_encoded', '_CASTHM1_9.0_encoded', '_ASTHMS1_9.0_encoded', '_PRACE1_5.0_encoded', '_PRACE1_7.0_encoded', '_PRACE1_8.0_encoded', '_PRACE1_77.0_encoded', '_MRACE1_5.0_encoded', '_MRACE1_77.0_encoded', '_HISPANC_9.0_encoded', '_RACE_5.0_encoded', '_RACE_6.0_encoded', '_CHLDCNT_6.0_encoded', '_CHLDCNT_9.0_encoded', '_EDUCAG_9.0_encoded', 'DRNKANY5_7.0_encoded', '_MISVEGN_2.0_encoded', '_MISVEGN_3.0_encoded', '_FRT16', '_VEG23', '_FRUITEX_2.0_encoded', '_VEGETEX_2.0_encoded']\n",
      "\n",
      "Step 3: Correlation Analysis - Reason: Low or high correlation:\n",
      "Removed 224 features: ['_STATE', 'FMONTH', 'IDATE', 'IMONTH', 'IDAY', 'IYEAR_2015.0_encoded', 'IYEAR_2016.0_encoded', 'DISPCODE_1100.0_encoded', 'DISPCODE_1200.0_encoded', 'GENHLTH_3.0_encoded', 'MENTHLTH', 'HLTHPLN1_1.0_encoded', 'HLTHPLN1_2.0_encoded', 'PERSDOC2_1.0_encoded', 'MEDCOST_1.0_encoded', 'MEDCOST_2.0_encoded', 'CHECKUP1_2.0_encoded', 'CHECKUP1_3.0_encoded', 'CHECKUP1_4.0_encoded', 'CHECKUP1_7.0_encoded', 'BLOODCHO_7.0_encoded', 'CHOLCHK_4.0_encoded', 'CHOLCHK_7.0_encoded', 'ASTHMA3_1.0_encoded', 'DIABETE3_4.0_encoded', 'MARITAL_1.0_encoded', 'MARITAL_2.0_encoded', 'MARITAL_4.0_encoded', 'MARITAL_6.0_encoded', 'EDUCA_2.0_encoded', 'EDUCA_3.0_encoded', 'EDUCA_4.0_encoded', 'EDUCA_5.0_encoded', 'RENTHOM1_1.0_encoded', 'RENTHOM1_2.0_encoded', 'RENTHOM1_3.0_encoded', 'EMPLOY1_2.0_encoded', 'EMPLOY1_3.0_encoded', 'EMPLOY1_4.0_encoded', 'EMPLOY1_5.0_encoded', 'EMPLOY1_6.0_encoded', 'INCOME2_1.0_encoded', 'INCOME2_3.0_encoded', 'INCOME2_4.0_encoded', 'INCOME2_5.0_encoded', 'INCOME2_6.0_encoded', 'INCOME2_7.0_encoded', 'INCOME2_77.0_encoded', 'INCOME2_99.0_encoded', 'WEIGHT2', 'HEIGHT3', 'USENOW3_1.0_encoded', 'USENOW3_2.0_encoded', 'USENOW3_3.0_encoded', 'FRUITJU1', 'FRUIT1', 'FVBEANS', 'FVGREEN', 'FVORANG', 'VEGETAB1', 'SEATBELT_1.0_encoded', 'SEATBELT_2.0_encoded', 'SEATBELT_3.0_encoded', 'SEATBELT_4.0_encoded', 'SEATBELT_5.0_encoded', 'HIVTST6_1.0_encoded', 'HIVTST6_2.0_encoded', 'HIVTST6_7.0_encoded', 'QSTVER_11.0_encoded', 'QSTVER_12.0_encoded', 'QSTVER_20.0_encoded', 'QSTVER_21.0_encoded', 'QSTVER_22.0_encoded', 'QSTVER_23.0_encoded', 'QSTLANG_1.0_encoded', 'QSTLANG_2.0_encoded', '_STSTR', '_STRWT', '_RAWRAKE', '_WT2RAKE', '_DUALUSE_1.0_encoded', '_DUALUSE_2.0_encoded', '_DUALUSE_9.0_encoded', '_LLCPWT', '_HCVU651_2.0_encoded', '_CHOLCHK_2.0_encoded', '_CHOLCHK_9.0_encoded', '_LTASTH1_2.0_encoded', '_ASTHMS1_2.0_encoded', '_PRACE1_1.0_encoded', '_PRACE1_2.0_encoded', '_PRACE1_3.0_encoded', '_PRACE1_4.0_encoded', '_PRACE1_6.0_encoded', '_PRACE1_99.0_encoded', '_MRACE1_1.0_encoded', '_MRACE1_2.0_encoded', '_MRACE1_3.0_encoded', '_MRACE1_4.0_encoded', '_MRACE1_6.0_encoded', '_MRACE1_7.0_encoded', '_MRACE1_99.0_encoded', '_HISPANC_1.0_encoded', '_HISPANC_2.0_encoded', '_RACE_1.0_encoded', '_RACE_2.0_encoded', '_RACE_3.0_encoded', '_RACE_4.0_encoded', '_RACE_7.0_encoded', '_RACE_8.0_encoded', '_RACE_9.0_encoded', '_RACEG21_1.0_encoded', '_RACEG21_2.0_encoded', '_RACEG21_9.0_encoded', '_RACEGR3_1.0_encoded', '_RACEGR3_2.0_encoded', '_RACEGR3_3.0_encoded', '_RACEGR3_4.0_encoded', '_RACEGR3_5.0_encoded', '_RACEGR3_9.0_encoded', '_RACE_G1_1.0_encoded', '_RACE_G1_2.0_encoded', '_RACE_G1_3.0_encoded', '_RACE_G1_4.0_encoded', '_RACE_G1_5.0_encoded', '_AGE65YR_3.0_encoded', '_AGE_G_5.0_encoded', 'HTIN4', 'HTM4', '_BMI5CAT_1.0_encoded', '_BMI5CAT_2.0_encoded', '_BMI5CAT_3.0_encoded', '_RFBMI5_1.0_encoded', '_RFBMI5_9.0_encoded', '_CHLDCNT_4.0_encoded', '_CHLDCNT_5.0_encoded', '_EDUCAG_2.0_encoded', '_EDUCAG_3.0_encoded', '_INCOMG_3.0_encoded', '_INCOMG_4.0_encoded', '_INCOMG_9.0_encoded', '_SMOKER3_1.0_encoded', '_SMOKER3_2.0_encoded', '_SMOKER3_9.0_encoded', '_RFSMOK3_1.0_encoded', '_RFSMOK3_2.0_encoded', '_RFSMOK3_9.0_encoded', 'DRNKANY5_9.0_encoded', 'DROCDY3_', '_RFBING5_9.0_encoded', '_DRNKWEK', '_RFDRHV5_1.0_encoded', '_RFDRHV5_2.0_encoded', '_RFDRHV5_9.0_encoded', 'FTJUDA1_', 'FRUTDA1_', 'BEANDAY_', 'GRENDAY_', 'ORNGDAY_', 'VEGEDA1_', '_MISFRTN_0.0_encoded', '_MISFRTN_1.0_encoded', '_MISFRTN_2.0_encoded', '_MISVEGN_0.0_encoded', '_MISVEGN_1.0_encoded', '_MISVEGN_4.0_encoded', '_FRTRESP', '_VEGRESP', '_FRUTSUM', '_VEGESUM', '_FRTLT1_1.0_encoded', '_FRTLT1_2.0_encoded', '_FRTLT1_9.0_encoded', '_VEGLT1_1.0_encoded', '_VEGLT1_2.0_encoded', '_VEGLT1_9.0_encoded', '_FRUITEX_0.0_encoded', '_FRUITEX_1.0_encoded', '_VEGETEX_0.0_encoded', '_VEGETEX_1.0_encoded', '_TOTINDA_9.0_encoded', 'MAXVO2_', 'FC60_', 'STRFREQ_', 'PAMISS1__0.0_encoded', 'PAMISS1__1.0_encoded', 'PAMISS1__9.0_encoded', '_PACAT1_1.0_encoded', '_PACAT1_2.0_encoded', '_PACAT1_3.0_encoded', '_PACAT1_9.0_encoded', '_PAINDX1_1.0_encoded', '_PAINDX1_2.0_encoded', '_PAINDX1_9.0_encoded', '_PA150R2_1.0_encoded', '_PA150R2_2.0_encoded', '_PA150R2_9.0_encoded', '_PA300R2_1.0_encoded', '_PA300R2_9.0_encoded', '_PA30021_1.0_encoded', '_PA30021_2.0_encoded', '_PA30021_9.0_encoded', '_PASTRNG_1.0_encoded', '_PASTRNG_2.0_encoded', '_PASTRNG_9.0_encoded', '_PAREC1_1.0_encoded', '_PAREC1_2.0_encoded', '_PAREC1_3.0_encoded', '_PAREC1_4.0_encoded', '_PAREC1_9.0_encoded', '_PASTAE1_1.0_encoded', '_PASTAE1_2.0_encoded', '_PASTAE1_9.0_encoded', '_LMTACT1_9.0_encoded', '_LMTSCL1_9.0_encoded', '_RFSEAT2_1.0_encoded', '_RFSEAT2_2.0_encoded', '_RFSEAT2_9.0_encoded', '_RFSEAT3_1.0_encoded', '_RFSEAT3_2.0_encoded', '_RFSEAT3_9.0_encoded', '_AIDTST3_1.0_encoded', '_AIDTST3_2.0_encoded', '_AIDTST3_9.0_encoded']\n",
      "\n",
      "Step 4: Statistical Test Analysis - Reason: Not statistically significant:\n",
      "Removed 320 features: ['IYEAR_2015.0_encoded', 'IYEAR_2016.0_encoded', 'DISPCODE_1100.0_encoded', 'DISPCODE_1200.0_encoded', 'GENHLTH_1.0_encoded', 'GENHLTH_2.0_encoded', 'GENHLTH_3.0_encoded', 'GENHLTH_4.0_encoded', 'GENHLTH_5.0_encoded', 'HLTHPLN1_1.0_encoded', 'HLTHPLN1_2.0_encoded', 'PERSDOC2_1.0_encoded', 'PERSDOC2_2.0_encoded', 'PERSDOC2_3.0_encoded', 'MEDCOST_1.0_encoded', 'MEDCOST_2.0_encoded', 'CHECKUP1_1.0_encoded', 'CHECKUP1_2.0_encoded', 'CHECKUP1_3.0_encoded', 'CHECKUP1_4.0_encoded', 'CHECKUP1_7.0_encoded', 'BPHIGH4_1.0_encoded', 'BPHIGH4_3.0_encoded', 'BLOODCHO_1.0_encoded', 'BLOODCHO_2.0_encoded', 'BLOODCHO_7.0_encoded', 'CHOLCHK_1.0_encoded', 'CHOLCHK_2.0_encoded', 'CHOLCHK_3.0_encoded', 'CHOLCHK_4.0_encoded', 'CHOLCHK_7.0_encoded', 'TOLDHI2_1.0_encoded', 'TOLDHI2_2.0_encoded', 'CVDSTRK3_1.0_encoded', 'CVDSTRK3_2.0_encoded', 'ASTHMA3_1.0_encoded', 'ASTHMA3_2.0_encoded', 'CHCSCNCR_1.0_encoded', 'CHCSCNCR_2.0_encoded', 'CHCOCNCR_1.0_encoded', 'CHCOCNCR_2.0_encoded', 'CHCCOPD1_1.0_encoded', 'CHCCOPD1_2.0_encoded', 'HAVARTH3_1.0_encoded', 'HAVARTH3_2.0_encoded', 'ADDEPEV2_1.0_encoded', 'ADDEPEV2_2.0_encoded', 'CHCKIDNY_1.0_encoded', 'CHCKIDNY_2.0_encoded', 'DIABETE3_1.0_encoded', 'DIABETE3_3.0_encoded', 'DIABETE3_4.0_encoded', 'SEX_1.0_encoded', 'SEX_2.0_encoded', 'MARITAL_1.0_encoded', 'MARITAL_2.0_encoded', 'MARITAL_3.0_encoded', 'MARITAL_4.0_encoded', 'MARITAL_5.0_encoded', 'MARITAL_6.0_encoded', 'EDUCA_2.0_encoded', 'EDUCA_3.0_encoded', 'EDUCA_4.0_encoded', 'EDUCA_5.0_encoded', 'EDUCA_6.0_encoded', 'RENTHOM1_1.0_encoded', 'RENTHOM1_2.0_encoded', 'RENTHOM1_3.0_encoded', 'VETERAN3_1.0_encoded', 'VETERAN3_2.0_encoded', 'EMPLOY1_1.0_encoded', 'EMPLOY1_2.0_encoded', 'EMPLOY1_3.0_encoded', 'EMPLOY1_4.0_encoded', 'EMPLOY1_5.0_encoded', 'EMPLOY1_6.0_encoded', 'EMPLOY1_7.0_encoded', 'EMPLOY1_8.0_encoded', 'INCOME2_1.0_encoded', 'INCOME2_2.0_encoded', 'INCOME2_3.0_encoded', 'INCOME2_4.0_encoded', 'INCOME2_5.0_encoded', 'INCOME2_6.0_encoded', 'INCOME2_7.0_encoded', 'INCOME2_8.0_encoded', 'INCOME2_77.0_encoded', 'INCOME2_99.0_encoded', 'INTERNET_1.0_encoded', 'INTERNET_2.0_encoded', 'QLACTLM2_1.0_encoded', 'QLACTLM2_2.0_encoded', 'USEEQUIP_1.0_encoded', 'USEEQUIP_2.0_encoded', 'BLIND_1.0_encoded', 'BLIND_2.0_encoded', 'DECIDE_1.0_encoded', 'DECIDE_2.0_encoded', 'DIFFWALK_1.0_encoded', 'DIFFWALK_2.0_encoded', 'DIFFDRES_1.0_encoded', 'DIFFDRES_2.0_encoded', 'DIFFALON_1.0_encoded', 'DIFFALON_2.0_encoded', 'SMOKE100_1.0_encoded', 'SMOKE100_2.0_encoded', 'USENOW3_1.0_encoded', 'USENOW3_2.0_encoded', 'USENOW3_3.0_encoded', 'EXERANY2_1.0_encoded', 'EXERANY2_2.0_encoded', 'SEATBELT_1.0_encoded', 'SEATBELT_2.0_encoded', 'SEATBELT_3.0_encoded', 'SEATBELT_4.0_encoded', 'SEATBELT_5.0_encoded', 'FLUSHOT6_1.0_encoded', 'FLUSHOT6_2.0_encoded', 'PNEUVAC3_1.0_encoded', 'PNEUVAC3_2.0_encoded', 'PNEUVAC3_7.0_encoded', 'HIVTST6_1.0_encoded', 'HIVTST6_2.0_encoded', 'HIVTST6_7.0_encoded', 'QSTVER_10.0_encoded', 'QSTVER_11.0_encoded', 'QSTVER_12.0_encoded', 'QSTVER_20.0_encoded', 'QSTVER_21.0_encoded', 'QSTVER_22.0_encoded', 'QSTVER_23.0_encoded', 'QSTLANG_1.0_encoded', 'QSTLANG_2.0_encoded', '_DUALUSE_1.0_encoded', '_DUALUSE_2.0_encoded', '_DUALUSE_9.0_encoded', '_RFHLTH_1.0_encoded', '_RFHLTH_2.0_encoded', '_HCVU651_1.0_encoded', '_HCVU651_2.0_encoded', '_HCVU651_9.0_encoded', '_RFHYPE5_1.0_encoded', '_RFHYPE5_2.0_encoded', '_CHOLCHK_1.0_encoded', '_CHOLCHK_2.0_encoded', '_CHOLCHK_3.0_encoded', '_CHOLCHK_9.0_encoded', '_RFCHOL_1.0_encoded', '_RFCHOL_2.0_encoded', '_LTASTH1_1.0_encoded', '_LTASTH1_2.0_encoded', '_CASTHM1_1.0_encoded', '_CASTHM1_2.0_encoded', '_ASTHMS1_1.0_encoded', '_ASTHMS1_2.0_encoded', '_ASTHMS1_3.0_encoded', '_DRDXAR1_1.0_encoded', '_DRDXAR1_2.0_encoded', '_PRACE1_1.0_encoded', '_PRACE1_2.0_encoded', '_PRACE1_3.0_encoded', '_PRACE1_4.0_encoded', '_PRACE1_6.0_encoded', '_PRACE1_99.0_encoded', '_MRACE1_1.0_encoded', '_MRACE1_2.0_encoded', '_MRACE1_3.0_encoded', '_MRACE1_4.0_encoded', '_MRACE1_6.0_encoded', '_MRACE1_7.0_encoded', '_MRACE1_99.0_encoded', '_HISPANC_1.0_encoded', '_HISPANC_2.0_encoded', '_RACE_1.0_encoded', '_RACE_2.0_encoded', '_RACE_3.0_encoded', '_RACE_4.0_encoded', '_RACE_7.0_encoded', '_RACE_8.0_encoded', '_RACE_9.0_encoded', '_RACEG21_1.0_encoded', '_RACEG21_2.0_encoded', '_RACEG21_9.0_encoded', '_RACEGR3_1.0_encoded', '_RACEGR3_2.0_encoded', '_RACEGR3_3.0_encoded', '_RACEGR3_4.0_encoded', '_RACEGR3_5.0_encoded', '_RACEGR3_9.0_encoded', '_RACE_G1_1.0_encoded', '_RACE_G1_2.0_encoded', '_RACE_G1_3.0_encoded', '_RACE_G1_4.0_encoded', '_RACE_G1_5.0_encoded', '_AGEG5YR', '_AGE65YR_1.0_encoded', '_AGE65YR_2.0_encoded', '_AGE65YR_3.0_encoded', '_AGE80', '_AGE_G_1.0_encoded', '_AGE_G_2.0_encoded', '_AGE_G_3.0_encoded', '_AGE_G_4.0_encoded', '_AGE_G_5.0_encoded', '_AGE_G_6.0_encoded', '_BMI5CAT_1.0_encoded', '_BMI5CAT_2.0_encoded', '_BMI5CAT_3.0_encoded', '_BMI5CAT_4.0_encoded', '_RFBMI5_1.0_encoded', '_RFBMI5_2.0_encoded', '_RFBMI5_9.0_encoded', '_CHLDCNT_1.0_encoded', '_CHLDCNT_2.0_encoded', '_CHLDCNT_3.0_encoded', '_CHLDCNT_4.0_encoded', '_CHLDCNT_5.0_encoded', '_EDUCAG_1.0_encoded', '_EDUCAG_2.0_encoded', '_EDUCAG_3.0_encoded', '_EDUCAG_4.0_encoded', '_INCOMG_1.0_encoded', '_INCOMG_2.0_encoded', '_INCOMG_3.0_encoded', '_INCOMG_4.0_encoded', '_INCOMG_5.0_encoded', '_INCOMG_9.0_encoded', '_SMOKER3_1.0_encoded', '_SMOKER3_2.0_encoded', '_SMOKER3_3.0_encoded', '_SMOKER3_4.0_encoded', '_SMOKER3_9.0_encoded', '_RFSMOK3_1.0_encoded', '_RFSMOK3_2.0_encoded', '_RFSMOK3_9.0_encoded', 'DRNKANY5_1.0_encoded', 'DRNKANY5_2.0_encoded', 'DRNKANY5_9.0_encoded', '_RFBING5_1.0_encoded', '_RFBING5_2.0_encoded', '_RFBING5_9.0_encoded', '_RFDRHV5_1.0_encoded', '_RFDRHV5_2.0_encoded', '_RFDRHV5_9.0_encoded', '_MISFRTN_0.0_encoded', '_MISFRTN_1.0_encoded', '_MISFRTN_2.0_encoded', '_MISVEGN_0.0_encoded', '_MISVEGN_1.0_encoded', '_MISVEGN_4.0_encoded', '_FRTRESP', '_VEGRESP', '_FRTLT1_1.0_encoded', '_FRTLT1_2.0_encoded', '_FRTLT1_9.0_encoded', '_VEGLT1_1.0_encoded', '_VEGLT1_2.0_encoded', '_VEGLT1_9.0_encoded', '_FRUITEX_0.0_encoded', '_FRUITEX_1.0_encoded', '_VEGETEX_0.0_encoded', '_VEGETEX_1.0_encoded', '_TOTINDA_1.0_encoded', '_TOTINDA_2.0_encoded', '_TOTINDA_9.0_encoded', 'PAMISS1__0.0_encoded', 'PAMISS1__1.0_encoded', 'PAMISS1__9.0_encoded', '_PACAT1_1.0_encoded', '_PACAT1_2.0_encoded', '_PACAT1_3.0_encoded', '_PACAT1_4.0_encoded', '_PACAT1_9.0_encoded', '_PAINDX1_1.0_encoded', '_PAINDX1_2.0_encoded', '_PAINDX1_9.0_encoded', '_PA150R2_1.0_encoded', '_PA150R2_2.0_encoded', '_PA150R2_3.0_encoded', '_PA150R2_9.0_encoded', '_PA300R2_1.0_encoded', '_PA300R2_2.0_encoded', '_PA300R2_3.0_encoded', '_PA300R2_9.0_encoded', '_PA30021_1.0_encoded', '_PA30021_2.0_encoded', '_PA30021_9.0_encoded', '_PASTRNG_1.0_encoded', '_PASTRNG_2.0_encoded', '_PASTRNG_9.0_encoded', '_PAREC1_1.0_encoded', '_PAREC1_2.0_encoded', '_PAREC1_3.0_encoded', '_PAREC1_4.0_encoded', '_PAREC1_9.0_encoded', '_PASTAE1_1.0_encoded', '_PASTAE1_2.0_encoded', '_PASTAE1_9.0_encoded', '_LMTACT1_1.0_encoded', '_LMTACT1_2.0_encoded', '_LMTACT1_3.0_encoded', '_LMTACT1_9.0_encoded', '_LMTWRK1_1.0_encoded', '_LMTWRK1_2.0_encoded', '_LMTWRK1_3.0_encoded', '_LMTWRK1_9.0_encoded', '_LMTSCL1_1.0_encoded', '_LMTSCL1_2.0_encoded', '_LMTSCL1_3.0_encoded', '_LMTSCL1_4.0_encoded', '_LMTSCL1_9.0_encoded', '_RFSEAT2_1.0_encoded', '_RFSEAT2_2.0_encoded', '_RFSEAT2_9.0_encoded', '_RFSEAT3_1.0_encoded', '_RFSEAT3_2.0_encoded', '_RFSEAT3_9.0_encoded', '_AIDTST3_1.0_encoded', '_AIDTST3_2.0_encoded', '_AIDTST3_9.0_encoded']\n"
     ]
    }
   ],
   "source": [
    "x_train_final_headers, x_train_final, x_test_final, y_train = Preprocess_data(file_path,\n",
    "                                                                              x_train, \n",
    "                                                                              x_test, \n",
    "                                                                              y_train,  \n",
    "                                                                              low_corr_threshold=0.05, \n",
    "                                                                              high_corr_threshold=0.9, \n",
    "                                                                              variance_threshold=0.01, \n",
    "                                                                              p_value_threshold=0.05, \n",
    "                                                                              missing_val_threshold=0.25)"
   ]
  },
  {
   "cell_type": "code",
   "execution_count": 6,
   "metadata": {},
   "outputs": [
    {
     "name": "stdout",
     "output_type": "stream",
     "text": [
      "Final x_train shape: (328135, 172)\n",
      "Final x_test shape: (109379, 172)\n",
      "Final selected features: ['_STATE', 'FMONTH', 'IDATE', 'IMONTH', 'IDAY', 'SEQNO', '_PSU', 'GENHLTH_1.0_encoded', 'GENHLTH_2.0_encoded', 'GENHLTH_4.0_encoded', 'GENHLTH_5.0_encoded', 'PHYSHLTH', 'MENTHLTH', 'PERSDOC2_2.0_encoded', 'PERSDOC2_3.0_encoded', 'CHECKUP1_1.0_encoded', 'BPHIGH4_1.0_encoded', 'BPHIGH4_3.0_encoded', 'BLOODCHO_1.0_encoded', 'BLOODCHO_2.0_encoded', 'CHOLCHK_1.0_encoded', 'CHOLCHK_2.0_encoded', 'CHOLCHK_3.0_encoded', 'TOLDHI2_1.0_encoded', 'TOLDHI2_2.0_encoded', 'CVDSTRK3_1.0_encoded', 'CVDSTRK3_2.0_encoded', 'ASTHMA3_2.0_encoded', 'CHCSCNCR_1.0_encoded', 'CHCSCNCR_2.0_encoded', 'CHCOCNCR_1.0_encoded', 'CHCOCNCR_2.0_encoded', 'CHCCOPD1_1.0_encoded', 'CHCCOPD1_2.0_encoded', 'HAVARTH3_1.0_encoded', 'HAVARTH3_2.0_encoded', 'ADDEPEV2_1.0_encoded', 'ADDEPEV2_2.0_encoded', 'CHCKIDNY_1.0_encoded', 'CHCKIDNY_2.0_encoded', 'DIABETE3_1.0_encoded', 'DIABETE3_3.0_encoded', 'SEX_1.0_encoded', 'SEX_2.0_encoded', 'MARITAL_3.0_encoded', 'MARITAL_5.0_encoded', 'EDUCA_6.0_encoded', 'VETERAN3_1.0_encoded', 'VETERAN3_2.0_encoded', 'EMPLOY1_1.0_encoded', 'EMPLOY1_7.0_encoded', 'EMPLOY1_8.0_encoded', 'CHILDREN', 'INCOME2_2.0_encoded', 'INCOME2_8.0_encoded', 'INTERNET_1.0_encoded', 'INTERNET_2.0_encoded', 'WEIGHT2', 'HEIGHT3', 'QLACTLM2_1.0_encoded', 'QLACTLM2_2.0_encoded', 'USEEQUIP_1.0_encoded', 'USEEQUIP_2.0_encoded', 'BLIND_1.0_encoded', 'BLIND_2.0_encoded', 'DECIDE_1.0_encoded', 'DECIDE_2.0_encoded', 'DIFFWALK_1.0_encoded', 'DIFFWALK_2.0_encoded', 'DIFFDRES_1.0_encoded', 'DIFFDRES_2.0_encoded', 'DIFFALON_1.0_encoded', 'DIFFALON_2.0_encoded', 'SMOKE100_1.0_encoded', 'SMOKE100_2.0_encoded', 'ALCDAY5', 'FRUITJU1', 'FRUIT1', 'FVBEANS', 'FVGREEN', 'FVORANG', 'VEGETAB1', 'EXERANY2_1.0_encoded', 'EXERANY2_2.0_encoded', 'STRENGTH', 'FLUSHOT6_1.0_encoded', 'FLUSHOT6_2.0_encoded', 'PNEUVAC3_1.0_encoded', 'PNEUVAC3_2.0_encoded', 'PNEUVAC3_7.0_encoded', 'QSTVER_10.0_encoded', '_STSTR', '_STRWT', '_RAWRAKE', '_WT2RAKE', '_LLCPWT', '_RFHLTH_1.0_encoded', '_RFHLTH_2.0_encoded', '_HCVU651_1.0_encoded', '_HCVU651_9.0_encoded', '_RFHYPE5_1.0_encoded', '_RFHYPE5_2.0_encoded', '_CHOLCHK_1.0_encoded', '_CHOLCHK_3.0_encoded', '_RFCHOL_1.0_encoded', '_RFCHOL_2.0_encoded', '_LTASTH1_1.0_encoded', '_CASTHM1_1.0_encoded', '_CASTHM1_2.0_encoded', '_ASTHMS1_1.0_encoded', '_ASTHMS1_3.0_encoded', '_DRDXAR1_1.0_encoded', '_DRDXAR1_2.0_encoded', '_AGEG5YR', '_AGE65YR_1.0_encoded', '_AGE65YR_2.0_encoded', '_AGE80', '_AGE_G_1.0_encoded', '_AGE_G_2.0_encoded', '_AGE_G_3.0_encoded', '_AGE_G_4.0_encoded', '_AGE_G_6.0_encoded', 'HTIN4', 'HTM4', 'WTKG3', '_BMI5', '_BMI5CAT_4.0_encoded', '_RFBMI5_2.0_encoded', '_CHLDCNT_1.0_encoded', '_CHLDCNT_2.0_encoded', '_CHLDCNT_3.0_encoded', '_EDUCAG_1.0_encoded', '_EDUCAG_4.0_encoded', '_INCOMG_1.0_encoded', '_INCOMG_2.0_encoded', '_INCOMG_5.0_encoded', '_SMOKER3_3.0_encoded', '_SMOKER3_4.0_encoded', 'DRNKANY5_1.0_encoded', 'DRNKANY5_2.0_encoded', 'DROCDY3_', '_RFBING5_1.0_encoded', '_RFBING5_2.0_encoded', '_DRNKWEK', 'FTJUDA1_', 'FRUTDA1_', 'BEANDAY_', 'GRENDAY_', 'ORNGDAY_', 'VEGEDA1_', '_FRUTSUM', '_VEGESUM', '_TOTINDA_1.0_encoded', '_TOTINDA_2.0_encoded', 'MAXVO2_', 'FC60_', 'STRFREQ_', '_PACAT1_4.0_encoded', '_PA150R2_3.0_encoded', '_PA300R2_2.0_encoded', '_PA300R2_3.0_encoded', '_LMTACT1_1.0_encoded', '_LMTACT1_2.0_encoded', '_LMTACT1_3.0_encoded', '_LMTWRK1_1.0_encoded', '_LMTWRK1_2.0_encoded', '_LMTWRK1_3.0_encoded', '_LMTWRK1_9.0_encoded', '_LMTSCL1_1.0_encoded', '_LMTSCL1_2.0_encoded', '_LMTSCL1_3.0_encoded', '_LMTSCL1_4.0_encoded']\n"
     ]
    }
   ],
   "source": [
    "# Display the final results\n",
    "print(\"Final x_train shape:\", x_train_final.shape)\n",
    "print(\"Final x_test shape:\", x_test_final.shape)\n",
    "print(\"Final selected features:\", x_train_final_headers)"
   ]
  }
 ],
 "metadata": {
  "kernelspec": {
   "display_name": "base",
   "language": "python",
   "name": "python3"
  },
  "language_info": {
   "codemirror_mode": {
    "name": "ipython",
    "version": 3
   },
   "file_extension": ".py",
   "mimetype": "text/x-python",
   "name": "python",
   "nbconvert_exporter": "python",
   "pygments_lexer": "ipython3",
   "version": "3.9.12"
  }
 },
 "nbformat": 4,
 "nbformat_minor": 2
}
